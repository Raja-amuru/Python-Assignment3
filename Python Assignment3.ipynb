{
 "cells": [
  {
   "cell_type": "raw",
   "id": "0aeb12d9",
   "metadata": {},
   "source": [
    "1.1 Write a Python Program to implement your own myreduce() function which works exactly \n",
    "like Python's built-in function reduce()"
   ]
  },
  {
   "cell_type": "code",
   "execution_count": 32,
   "id": "a1443c99",
   "metadata": {},
   "outputs": [],
   "source": [
    "#Solution\n",
    "#Sum of odd numbers in a given range.\n",
    "odd_num_list=[]\n",
    "def myreduce():\n",
    "    lowerbound=int(input(\"please insert the lower bound:\"))\n",
    "    upperbound=int(input(\"please insert the upper bound:\"))\n",
    "    range_list=list(range(lowerbound,upperbound+1))\n",
    "    for i in range_list:\n",
    "        if i%2!=0:\n",
    "            odd_num_list.append(i)\n",
    "            sum_of_elements=0\n",
    "            for j in odd_num_list:\n",
    "                sum_of_elements=sum_of_elements+j\n",
    "    return sum_of_elements           \n",
    "    #return odd_num_list\n",
    "    "
   ]
  },
  {
   "cell_type": "code",
   "execution_count": 33,
   "id": "03e325b8",
   "metadata": {},
   "outputs": [
    {
     "name": "stdout",
     "output_type": "stream",
     "text": [
      "please insert the lower bound:1\n",
      "please insert the upper bound:25\n"
     ]
    },
    {
     "data": {
      "text/plain": [
       "169"
      ]
     },
     "execution_count": 33,
     "metadata": {},
     "output_type": "execute_result"
    }
   ],
   "source": [
    "myreduce()"
   ]
  },
  {
   "cell_type": "code",
   "execution_count": 34,
   "id": "cbe3c2ed",
   "metadata": {},
   "outputs": [],
   "source": [
    "# Same Solution can be approached by Built-in reduce() function\n",
    "from functools import reduce"
   ]
  },
  {
   "cell_type": "code",
   "execution_count": 35,
   "id": "807e76e0",
   "metadata": {},
   "outputs": [
    {
     "data": {
      "text/plain": [
       "169"
      ]
     },
     "execution_count": 35,
     "metadata": {},
     "output_type": "execute_result"
    }
   ],
   "source": [
    "reduce(lambda a,b:a+b,odd_num_list)"
   ]
  },
  {
   "cell_type": "code",
   "execution_count": 11,
   "id": "be8b1e10",
   "metadata": {},
   "outputs": [
    {
     "data": {
      "text/plain": [
       "[1, 3, 5, 7, 9, 11, 13, 15, 17, 19, 21, 23, 25]"
      ]
     },
     "execution_count": 11,
     "metadata": {},
     "output_type": "execute_result"
    }
   ],
   "source": [
    "odd_num_list"
   ]
  },
  {
   "cell_type": "raw",
   "id": "ea5c4f4c",
   "metadata": {},
   "source": [
    "1.2 Write a Python program to implement your own myfilter() function which works exactly \n",
    "like Python's built-in function filter()"
   ]
  },
  {
   "cell_type": "code",
   "execution_count": null,
   "id": "21e87b42",
   "metadata": {},
   "outputs": [],
   "source": [
    "# Solution\n",
    "#Flter all the strngs startng wth 'S' in a gievn list\n",
    "list1=[1,2,3,5,8,'Sekhar','Raja','Sky','Simla']"
   ]
  },
  {
   "cell_type": "code",
   "execution_count": 13,
   "id": "d358eb13",
   "metadata": {},
   "outputs": [],
   "source": [
    "def testfil():\n",
    "    filterlist=[]\n",
    "    for i in list1:\n",
    "        if type(i)==str:\n",
    "            if(i[0]=='S'or i[0]=='S'):\n",
    "                filterlist.append(i)               \n",
    "    return filterlist"
   ]
  },
  {
   "cell_type": "code",
   "execution_count": 14,
   "id": "4b436bad",
   "metadata": {},
   "outputs": [
    {
     "data": {
      "text/plain": [
       "['Sekhar', 'Sky', 'Simla']"
      ]
     },
     "execution_count": 14,
     "metadata": {},
     "output_type": "execute_result"
    }
   ],
   "source": [
    "testfil()"
   ]
  },
  {
   "cell_type": "code",
   "execution_count": 12,
   "id": "6be0801d",
   "metadata": {},
   "outputs": [],
   "source": [
    "#Same solution can be approached by built-in filter() function"
   ]
  },
  {
   "cell_type": "code",
   "execution_count": 11,
   "id": "46414eb9",
   "metadata": {},
   "outputs": [
    {
     "data": {
      "text/plain": [
       "['Sekhar', 'Sky', 'Simla']"
      ]
     },
     "execution_count": 11,
     "metadata": {},
     "output_type": "execute_result"
    }
   ],
   "source": [
    "list(filter(lambda a:True if type(a)==str and (a[0]=='S' or a[0]=='s') else False,list1))"
   ]
  },
  {
   "cell_type": "raw",
   "id": "4b3bf0d3",
   "metadata": {},
   "source": [
    "2. Implement List comprehensions to produce the following lists. \n",
    "Write List comprehensions to produce the following List"
   ]
  },
  {
   "cell_type": "code",
   "execution_count": 102,
   "id": "7d759014",
   "metadata": {},
   "outputs": [
    {
     "name": "stdout",
     "output_type": "stream",
     "text": [
      "['x', 'xx', 'xxx', 'xxxx', 'y', 'yy', 'yyy', 'yyyy', 'z', 'zz', 'zzz', 'zzzz']\n",
      "['x', 'y', 'z', 'xx', 'yy', 'zz', 'xxx', 'yyy', 'zzz', 'xxxx', 'yyyy', 'zzzz']\n",
      "[[2], [3], [4], [3], [4], [5], [4], [5], [6]]\n",
      "[[2, 3, 4, 5], [3, 4, 5, 6], [4, 5, 6, 7], [5, 6, 7, 8]]\n",
      "[(1, 1), (2, 1), (3, 1), (1, 2), (2, 2), (3, 2), (1, 3), (2, 3), (3, 3)]\n"
     ]
    }
   ],
   "source": [
    "#Solution\n",
    "#Section 1\n",
    "l1=list('xyz')\n",
    "l2=[x*n for x in word_1 for n in range(1,5) ]\n",
    "print(l2)\n",
    "\n",
    "#Section 2\n",
    "l3=[x*n for n in range(1,5) for x in word_1 ]\n",
    "print(l3)\n",
    "\n",
    "#Section 3\n",
    "l4=[2,3,4]\n",
    "l5=[[x+n] for x in number for n in range(0,3)]\n",
    "print(l5)\n",
    "\n",
    "#Section 4\n",
    "l6=[2,3,4,5]\n",
    "l7=[[x+n for n in range(0,4)] for x in number_2 ]\n",
    "print(l7)\n",
    "\n",
    "#Section 5\n",
    "l8=[1,2,3]\n",
    "l9= [(b,a) for a in number_4 for b in number_4]\n",
    "print(l9)"
   ]
  },
  {
   "cell_type": "code",
   "execution_count": null,
   "id": "10b2c20d",
   "metadata": {},
   "outputs": [],
   "source": []
  }
 ],
 "metadata": {
  "kernelspec": {
   "display_name": "Python 3",
   "language": "python",
   "name": "python3"
  },
  "language_info": {
   "codemirror_mode": {
    "name": "ipython",
    "version": 3
   },
   "file_extension": ".py",
   "mimetype": "text/x-python",
   "name": "python",
   "nbconvert_exporter": "python",
   "pygments_lexer": "ipython3",
   "version": "3.8.8"
  }
 },
 "nbformat": 4,
 "nbformat_minor": 5
}
